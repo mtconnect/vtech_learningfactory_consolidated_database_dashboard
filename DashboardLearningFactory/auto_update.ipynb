{
 "cells": [
  {
   "cell_type": "code",
   "execution_count": 1,
   "metadata": {},
   "outputs": [],
   "source": [
    "import xml.etree.ElementTree as ET\n",
    "import pandas as pd\n",
    "import numpy as np\n",
    "from sqlalchemy import create_engine\n",
    "from datetime import datetime\n",
    "from datetime import timedelta\n",
    "import time"
   ]
  },
  {
   "cell_type": "markdown",
   "metadata": {},
   "source": [
    "# Functions"
   ]
  },
  {
   "cell_type": "code",
   "execution_count": 19,
   "metadata": {},
   "outputs": [],
   "source": [
    "# Function to create simulation\n",
    "# The parameters of the function can be change so it can semulate diferent values\n",
    "def create_simulation(deviceName, deviceUuid, component, componentName, componentId, measurementType, dataItemId, name, sequence, subType,\n",
    "                      mu = 1, # Its the middle value that the distribution its going to take\n",
    "                      sigma = 1, # Its the variance of the simulation\n",
    "                      min = 0, # Its the min value that the simulation can take\n",
    "                      max = 2): # Its the max value that the simulation can take\n",
    "\n",
    "    # Create DataFrame\n",
    "    df_dates = pd.DataFrame({'timestamp': [datetime.now()]})\n",
    "\n",
    "    # Generate the random normal distribution\n",
    "    random_num = np.random.normal(mu, sigma)\n",
    "\n",
    "    # Add column to DataFrame\n",
    "    df_dates['value'] = random_num\n",
    "\n",
    "    df_dates['value'] = np.where(df_dates['value'] < min, min, df_dates['value'])\n",
    "\n",
    "    df_dates['value'] = np.where(df_dates['value'] > max, max, df_dates['value'])\n",
    "    df_dates['deviceName'] = deviceName\n",
    "    df_dates['deviceUuid'] = deviceUuid\n",
    "    df_dates['component'] = component\n",
    "    df_dates['componentName'] = componentName\n",
    "    df_dates['componentId'] = componentId\n",
    "    df_dates['measurementType'] = measurementType\n",
    "    df_dates['dataItemId'] = dataItemId\n",
    "    df_dates['name'] = name\n",
    "    df_dates['sequence'] = sequence\n",
    "    df_dates['subType'] = subType\n",
    "    df_dates['mantenance'] = 0\n",
    "    \n",
    "    df_dates = df_dates[['deviceName', 'deviceUuid', 'component', 'componentName', 'componentId', 'measurementType', 'dataItemId', 'timestamp', 'name', 'sequence', 'subType', 'value', 'mantenance']]\n",
    "\n",
    "    \n",
    "    return df_dates"
   ]
  },
  {
   "cell_type": "code",
   "execution_count": 1,
   "metadata": {
    "ExecuteTime": {
     "end_time": "2024-03-20T22:53:51.644175900Z",
     "start_time": "2024-03-20T22:53:51.631015100Z"
    }
   },
   "outputs": [],
   "source": [
    "# Function to load data to Mysql\n",
    "def load_MySQL(table_name,new_dataframe):\n",
    "\n",
    "    # database connection details\n",
    "    db_username = 'u681559533_AMT'\n",
    "    db_password = 'MVT2024VTise'\n",
    "    db_host = '193.203.166.160'\n",
    "    db_port = '3306'\n",
    "    db_name = 'u681559533_VT_LF_DB'\n",
    "\n",
    "    # Create the database engine\n",
    "    engine = create_engine(f'mysql+pymysql://{db_username}:{db_password}@{db_host}:{db_port}/{db_name}')\n",
    "\n",
    "    # Load the DataFrame into MySQL table\n",
    "    new_dataframe.to_sql(name=table_name, con=engine, if_exists='append', index=False)\n",
    "\n",
    "    print(\"DataFrame has been loaded into the database.\")\n",
    "\n",
    "    return None"
   ]
  },
  {
   "cell_type": "markdown",
   "metadata": {},
   "source": [
    "# Excecution"
   ]
  },
  {
   "cell_type": "code",
   "execution_count": 20,
   "metadata": {},
   "outputs": [],
   "source": [
    "# Parameters of machine\n",
    "dataItemId = 'ovenHeater1Com'\n",
    "name = 'OvenHeater1CommandedTemperature'\n",
    "measurementType = 'Temperature'\n",
    "component = 'Enclosure'\n",
    "componentName = 'Oven'\n",
    "componentId = 'oven'\n",
    "deviceName = 'f170'\n",
    "deviceUuid = 'D12827'\n",
    "sequence = 22405688\n",
    "subType = 'ACTUAL'"
   ]
  },
  {
   "cell_type": "code",
   "execution_count": 22,
   "metadata": {},
   "outputs": [
    {
     "data": {
      "text/html": [
       "<div>\n",
       "<style scoped>\n",
       "    .dataframe tbody tr th:only-of-type {\n",
       "        vertical-align: middle;\n",
       "    }\n",
       "\n",
       "    .dataframe tbody tr th {\n",
       "        vertical-align: top;\n",
       "    }\n",
       "\n",
       "    .dataframe thead th {\n",
       "        text-align: right;\n",
       "    }\n",
       "</style>\n",
       "<table border=\"1\" class=\"dataframe\">\n",
       "  <thead>\n",
       "    <tr style=\"text-align: right;\">\n",
       "      <th></th>\n",
       "      <th>deviceName</th>\n",
       "      <th>deviceUuid</th>\n",
       "      <th>component</th>\n",
       "      <th>componentName</th>\n",
       "      <th>componentId</th>\n",
       "      <th>measurementType</th>\n",
       "      <th>dataItemId</th>\n",
       "      <th>timestamp</th>\n",
       "      <th>name</th>\n",
       "      <th>sequence</th>\n",
       "      <th>subType</th>\n",
       "      <th>value</th>\n",
       "      <th>mantenance</th>\n",
       "    </tr>\n",
       "  </thead>\n",
       "  <tbody>\n",
       "    <tr>\n",
       "      <th>0</th>\n",
       "      <td>f170</td>\n",
       "      <td>D12827</td>\n",
       "      <td>Enclosure</td>\n",
       "      <td>Oven</td>\n",
       "      <td>oven</td>\n",
       "      <td>Temperature</td>\n",
       "      <td>ovenHeater1Com</td>\n",
       "      <td>2024-03-20 11:25:03.193940</td>\n",
       "      <td>OvenHeater1CommandedTemperature</td>\n",
       "      <td>22405688</td>\n",
       "      <td>ACTUAL</td>\n",
       "      <td>2.0</td>\n",
       "      <td>0</td>\n",
       "    </tr>\n",
       "  </tbody>\n",
       "</table>\n",
       "</div>"
      ],
      "text/plain": [
       "  deviceName deviceUuid  component componentName componentId measurementType  \\\n",
       "0       f170     D12827  Enclosure          Oven        oven     Temperature   \n",
       "\n",
       "       dataItemId                  timestamp                             name  \\\n",
       "0  ovenHeater1Com 2024-03-20 11:25:03.193940  OvenHeater1CommandedTemperature   \n",
       "\n",
       "   sequence subType  value  mantenance  \n",
       "0  22405688  ACTUAL    2.0           0  "
      ]
     },
     "execution_count": 22,
     "metadata": {},
     "output_type": "execute_result"
    }
   ],
   "source": [
    "# Example\n",
    "create_simulation(deviceName, deviceUuid, component, componentName, componentId, measurementType, dataItemId, name, sequence, subType)"
   ]
  },
  {
   "cell_type": "code",
   "execution_count": null,
   "metadata": {},
   "outputs": [],
   "source": [
    "# this is what needs to be running to keep updating data to the data base\n",
    "while True:\n",
    "    time.sleep(1)\n",
    "    load_MySQL('test',create_simulation(deviceName, deviceUuid, component, componentName, componentId, measurementType, dataItemId, name, sequence, subType))"
   ]
  }
 ],
 "metadata": {
  "kernelspec": {
   "display_name": "Python 3",
   "language": "python",
   "name": "python3"
  },
  "language_info": {
   "codemirror_mode": {
    "name": "ipython",
    "version": 3
   },
   "file_extension": ".py",
   "mimetype": "text/x-python",
   "name": "python",
   "nbconvert_exporter": "python",
   "pygments_lexer": "ipython3",
   "version": "3.11.8"
  }
 },
 "nbformat": 4,
 "nbformat_minor": 2
}
