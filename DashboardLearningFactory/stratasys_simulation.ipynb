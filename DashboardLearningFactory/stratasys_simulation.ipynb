{
 "cells": [
  {
   "cell_type": "code",
   "execution_count": 24,
   "metadata": {
    "ExecuteTime": {
     "end_time": "2024-03-21T01:43:52.282153100Z",
     "start_time": "2024-03-21T01:43:52.098255Z"
    }
   },
   "outputs": [],
   "source": [
    "import xml.etree.ElementTree as ET\n",
    "import pandas as pd\n",
    "import numpy as np\n",
    "from sqlalchemy import create_engine\n",
    "from datetime import datetime\n",
    "from datetime import timedelta"
   ]
  },
  {
   "cell_type": "markdown",
   "source": [],
   "metadata": {
    "collapsed": false
   }
  },
  {
   "cell_type": "markdown",
   "metadata": {},
   "source": [
    "# Function to Load data to Mysql"
   ]
  },
  {
   "cell_type": "code",
   "execution_count": 25,
   "metadata": {
    "ExecuteTime": {
     "end_time": "2024-03-21T01:43:54.933975Z",
     "start_time": "2024-03-21T01:43:52.119807800Z"
    }
   },
   "outputs": [],
   "source": [
    "# Function to load data to Mysql\n",
    "def load_MySQL(table_name,new_dataframe):\n",
    "\n",
    "    # Replace the following with your own database connection details\n",
    "    db_username = 'u681559533_AMT'\n",
    "    db_password = 'MVT2024VTise'\n",
    "    db_host = '193.203.166.160'\n",
    "    db_port = '3306'\n",
    "    db_name = 'u681559533_VT_LF_DB'\n",
    "\n",
    "    # Create the database engine\n",
    "    engine = create_engine(f'mysql+pymysql://{db_username}:{db_password}@{db_host}:{db_port}/{db_name}')\n",
    "\n",
    "    # Load the DataFrame into MySQL table\n",
    "    new_dataframe.to_sql(name=table_name, con=engine, if_exists='replace', index=False, chunksize=100_000)\n",
    "\n",
    "    print(\"DataFrame has been loaded into the database.\")\n",
    "\n",
    "    return None"
   ]
  },
  {
   "cell_type": "markdown",
   "source": [
    "# Function to create simulation"
   ],
   "metadata": {
    "collapsed": false
   }
  },
  {
   "cell_type": "code",
   "execution_count": 26,
   "metadata": {
    "ExecuteTime": {
     "end_time": "2024-03-21T01:43:54.973637500Z",
     "start_time": "2024-03-21T01:43:54.783016300Z"
    }
   },
   "outputs": [],
   "source": [
    " # Function to create simulation\n",
    "# The parameters of the function can be change so it can simulate different values\n",
    "def create_simulation(date_start, # It is  the date when the simulation start\n",
    "                      date_finish, # It is the date when the simulation finish\n",
    "                      mu = 1, # It is the middle value that the distribution is going to take\n",
    "                      sigma = 1, # It is the variance of the simulation\n",
    "                      min = 0, # It is the min value that the simulation can take\n",
    "                      max = 2): # It is the max value that the simulation can take\n",
    "\n",
    "    # Create date range\n",
    "    range_dates = pd.date_range(start=date_start, end=date_finish, freq='s')\n",
    "\n",
    "    # Create DataFrame\n",
    "    df_dates = pd.DataFrame(range_dates, columns=['timestamp'])\n",
    "\n",
    "    # Generate the random normal distribution\n",
    "    random_num = np.random.normal(mu, sigma, size=len(df_dates))\n",
    "\n",
    "    # Add column to DataFrame\n",
    "    df_dates['value'] = random_num\n",
    "\n",
    "    df_dates['value'] = np.where(df_dates['value'] < min, min, df_dates['value'])\n",
    "\n",
    "    df_dates['value'] = np.where(df_dates['value'] > max, max, df_dates['value'])\n",
    "    \n",
    "    return df_dates\n"
   ]
  },
  {
   "cell_type": "markdown",
   "source": [
    "# Funcrion to adjust dataframe to XML data structure"
   ],
   "metadata": {
    "collapsed": false
   }
  },
  {
   "cell_type": "code",
   "execution_count": 27,
   "metadata": {
    "ExecuteTime": {
     "end_time": "2024-03-21T01:43:55.080528900Z",
     "start_time": "2024-03-21T01:43:54.793542800Z"
    }
   },
   "outputs": [],
   "source": [
    "# Funcrion to adjust dataframe to XML data structure\n",
    "def complete_df(df1, df2, deviceName, deviceUuid, component, componentName, componentId, measurementType, dataItemId, name, sequence):\n",
    "    dft = pd.concat([df1, df2])\n",
    "    dft['deviceName'] = deviceName\n",
    "    dft['deviceUuid'] = deviceUuid\n",
    "    dft['component'] = component\n",
    "    dft['componentName'] = componentName\n",
    "    dft['componentId'] = componentId\n",
    "    dft['measurementType'] = measurementType\n",
    "    dft['dataItemId'] = dataItemId\n",
    "    dft['name'] = name\n",
    "    dft['sequence'] = sequence\n",
    "    \n",
    "    dft = dft[['deviceName', 'deviceUuid', 'component', 'componentName', 'componentId', 'measurementType', 'dataItemId', 'timestamp', 'name', 'sequence', 'subType', 'value', 'mantenance']]\n",
    "    return dft"
   ]
  },
  {
   "cell_type": "markdown",
   "metadata": {},
   "source": [
    "# Read Data"
   ]
  },
  {
   "cell_type": "code",
   "execution_count": 28,
   "metadata": {
    "ExecuteTime": {
     "end_time": "2024-03-21T01:43:55.083537200Z",
     "start_time": "2024-03-21T01:43:54.821102600Z"
    }
   },
   "outputs": [],
   "source": [
    "root = ET.parse('StratasysSample.xml')\n",
    "\n",
    "# Prepare a list to hold extracted data\n",
    "data = []\n",
    "\n",
    "# Iterate through each DeviceStream and its ComponentStreams\n",
    "for device_stream in root.findall('.//{urn:mtconnect.org:MTConnectStreams:1.5}DeviceStream'):\n",
    "    device_name = device_stream.attrib.get('name')\n",
    "    device_uuid = device_stream.attrib.get('uuid')\n",
    "    for component_stream in device_stream.findall('.//{urn:mtconnect.org:MTConnectStreams:1.5}ComponentStream'):\n",
    "        component = component_stream.attrib.get('component')\n",
    "        component_name = component_stream.attrib.get('name')\n",
    "        component_id = component_stream.attrib.get('componentId')\n",
    "        # Extract samples\n",
    "        for samples in component_stream.findall('.//{urn:mtconnect.org:MTConnectStreams:1.5}Samples'):\n",
    "            for sample in samples:\n",
    "                # Extract all attributes of the sample\n",
    "                sample_data = {attr: sample.attrib.get(attr) for attr in sample.attrib}\n",
    "                sample_data['value'] = sample.text\n",
    "                sample_data['componentName'] = component_name\n",
    "                sample_data['componentId'] = component_id\n",
    "                sample_data['deviceName'] = device_name\n",
    "                sample_data['deviceUuid'] = device_uuid\n",
    "                sample_data['component'] = component\n",
    "                sample_data['measurementType'] = sample.tag.split('}')[1]  # To get 'Amperage', 'Voltage', etc.\n",
    "                data.append(sample_data)\n",
    "\n",
    "# Convert the list of dictionaries into a DataFrame\n",
    "df = pd.DataFrame(data)\n",
    "\n",
    "df = df[['deviceName','deviceUuid','component','componentName','componentId','measurementType','dataItemId', 'timestamp', 'name', 'sequence', 'subType', 'value']].copy()"
   ]
  },
  {
   "cell_type": "markdown",
   "metadata": {},
   "source": [
    "## Create Tables"
   ]
  },
  {
   "cell_type": "code",
   "execution_count": 29,
   "metadata": {
    "ExecuteTime": {
     "end_time": "2024-03-21T01:43:55.112128500Z",
     "start_time": "2024-03-21T01:43:54.899296500Z"
    }
   },
   "outputs": [],
   "source": [
    "# exploration of the table\n",
    "df_amperage_enclosure = df[(df['measurementType'] == 'Amperage')&(df['component'] == 'Enclosure')]\n",
    "df_amperage_linear = df[(df['measurementType'] == 'Amperage')&(df['component'] == 'Linear')]\n",
    "df_voltage = df[df['measurementType'] == 'Voltage']\n",
    "df_temperature = df[df['measurementType'] == 'Temperature']\n",
    "df_rotaryvelocity = df[df['measurementType'] == 'RotaryVelocity']\n",
    "df_powerfactor = df[df['measurementType'] == 'PowerFactor']"
   ]
  },
  {
   "cell_type": "markdown",
   "metadata": {},
   "source": [
    "# Simulation"
   ]
  },
  {
   "cell_type": "code",
   "execution_count": 30,
   "metadata": {
    "ExecuteTime": {
     "end_time": "2024-03-21T01:43:55.120652600Z",
     "start_time": "2024-03-21T01:43:54.947047600Z"
    }
   },
   "outputs": [],
   "source": [
    "# Parameters of simulation\n",
    "number_of_days = 0\n",
    "start_date = (datetime.now()- timedelta(days=number_of_days,hours=0,minutes=15)).strftime('%Y-%m-%d %H:%M:%S')\n",
    "finish_date = (datetime.now()).strftime('%Y-%m-%d %H:%M:%S')"
   ]
  },
  {
   "cell_type": "markdown",
   "metadata": {},
   "source": [
    "## Temperature"
   ]
  },
  {
   "cell_type": "code",
   "execution_count": 31,
   "metadata": {
    "ExecuteTime": {
     "end_time": "2024-03-21T01:43:55.260569800Z",
     "start_time": "2024-03-21T01:43:54.995796Z"
    }
   },
   "outputs": [],
   "source": [
    "# Parameters of machine\n",
    "dataItemId = 'ovenHeater1Com'\n",
    "name = 'OvenHeater1CommandedTemperature'\n",
    "measurementType = 'Temperature'\n",
    "component = 'Enclosure'\n",
    "componentName = 'Oven'\n",
    "componentId = 'oven'\n",
    "mantenance_date = (datetime.now()- timedelta(days=number_of_days*(2/3))).strftime('%Y-%m-%d %H:%M:%S')\n",
    "deviceName = 'f170'\n",
    "deviceUuid = 'D12827'\n",
    "sequence = 22405688\n",
    "\n",
    "# Simulation\n",
    "df_targuet = create_simulation(start_date,finish_date, mu = 2, sigma = 1, min = 0, max = 2) \n",
    "df_targuet['subType'] = 'TARGET'\n",
    "df_targuet['mantenance'] = 0\n",
    "\n",
    "df_actual = create_simulation(start_date,finish_date, mu = 1, sigma = 0.5, min = 0, max = 2)\n",
    "df_actual['subType'] = 'ACTUAL'\n",
    "df_actual['mantenance'] = np.where(df_actual['timestamp']==mantenance_date, 1, 0)\n",
    "\n",
    "df_final1 = complete_df(df_targuet, df_actual, deviceName, deviceUuid, component, componentName, componentId, measurementType, dataItemId, name, sequence)"
   ]
  },
  {
   "cell_type": "code",
   "execution_count": 32,
   "metadata": {
    "ExecuteTime": {
     "end_time": "2024-03-21T01:43:55.552215800Z",
     "start_time": "2024-03-21T01:43:55.198090800Z"
    }
   },
   "outputs": [],
   "source": [
    "# Parameters of machine\n",
    "dataItemId = 'ovenHeater2Com'\n",
    "name = 'OvenHeater2CommandedTemperature'\n",
    "measurementType = 'Temperature'\n",
    "component = 'Enclosure'\n",
    "componentName = 'Oven'\n",
    "componentId = 'oven'\n",
    "mantenance_date = (datetime.now()- timedelta(days=number_of_days*(1/3))).strftime('%Y-%m-%d %H:%M:%S')\n",
    "deviceName = 'f170'\n",
    "deviceUuid = 'D12827'\n",
    "sequence = 22405688\n",
    "\n",
    "# Simulation\n",
    "df_targuet = create_simulation(start_date,finish_date, mu = 2, sigma = 1, min = 0, max = 2)\n",
    "df_targuet['subType'] = 'TARGET'\n",
    "df_targuet['mantenance'] = 0\n",
    "\n",
    "df_actual = create_simulation(start_date,finish_date, mu = 1, sigma = 0.5, min = 0, max = 2)\n",
    "df_actual['subType'] = 'ACTUAL'\n",
    "df_actual['mantenance'] = np.where(df_actual['timestamp']==mantenance_date, 1, 0)\n",
    "\n",
    "df_final2 = complete_df(df_targuet, df_actual, deviceName, deviceUuid, component, componentName, componentId, measurementType, dataItemId, name, sequence)"
   ]
  },
  {
   "cell_type": "code",
   "execution_count": 33,
   "metadata": {
    "ExecuteTime": {
     "end_time": "2024-03-21T01:43:55.554217300Z",
     "start_time": "2024-03-21T01:43:55.541682300Z"
    }
   },
   "outputs": [],
   "source": [
    "# Create temperature dataframe\n",
    "df_temperature = pd.concat([df_final1, df_final2])"
   ]
  },
  {
   "cell_type": "markdown",
   "metadata": {},
   "source": [
    "## Speed"
   ]
  },
  {
   "cell_type": "code",
   "execution_count": 34,
   "metadata": {
    "ExecuteTime": {
     "end_time": "2024-03-21T01:43:55.556217400Z",
     "start_time": "2024-03-21T01:43:55.543690Z"
    }
   },
   "outputs": [],
   "source": [
    "# Parameters of machine\n",
    "dataItemId = 'ovenBlower1Speed'\n",
    "name = 'OvenBlower1Speed'\n",
    "measurementType = 'RotaryVelocity'\n",
    "component = 'Enclosure'\n",
    "componentName = 'Oven'\n",
    "componentId = 'oven'\n",
    "mantenance_date = (datetime.now()- timedelta(days=number_of_days*(2/3))).strftime('%Y-%m-%d %H:%M:%S')\n",
    "deviceName = 'f170'\n",
    "deviceUuid = 'D12827'\n",
    "sequence = 22405688\n",
    "\n",
    "# Simulation\n",
    "df_targuet = create_simulation(start_date,finish_date, mu = 2, sigma = 1, min = 0, max = 2)\n",
    "df_targuet['subType'] = 'TARGET'\n",
    "df_targuet['mantenance'] = 0\n",
    "\n",
    "df_actual = create_simulation(start_date,finish_date, mu = 1, sigma = 0.5, min = 0, max = 2)\n",
    "df_actual['subType'] = 'ACTUAL'\n",
    "df_actual['maintenance'] = np.where(df_actual['timestamp']==mantenance_date, 1, 0)\n",
    "\n",
    "df_final1 = complete_df(df_targuet, df_actual, deviceName, deviceUuid, component, componentName, componentId, measurementType, dataItemId, name, sequence)"
   ]
  },
  {
   "cell_type": "code",
   "execution_count": 35,
   "metadata": {
    "ExecuteTime": {
     "end_time": "2024-03-21T01:43:55.559729600Z",
     "start_time": "2024-03-21T01:43:55.543690Z"
    }
   },
   "outputs": [],
   "source": [
    "# Parameters of machine\n",
    "dataItemId = 'ovenBlower2Speed'\n",
    "name = 'OvenBlower2Speed'\n",
    "measurementType = 'RotaryVelocity'\n",
    "component = 'Enclosure'\n",
    "componentName = 'Oven'\n",
    "componentId = 'oven'\n",
    "mantenance_date = (datetime.now()- timedelta(days=number_of_days*(1/3))).strftime('%Y-%m-%d %H:%M:%S')\n",
    "deviceName = 'f170'\n",
    "deviceUuid = 'D12827'\n",
    "sequence = 22405688\n",
    "\n",
    "# Simulation\n",
    "df_targuet = create_simulation(start_date,finish_date, mu = 2, sigma = 1, min = 0, max = 2)\n",
    "df_targuet['subType'] = 'TARGET'\n",
    "df_targuet['mantenance'] = 0\n",
    "\n",
    "df_actual = create_simulation(start_date,finish_date, mu = 1, sigma = 0.5, min = 0, max = 2)\n",
    "df_actual['subType'] = 'ACTUAL'\n",
    "df_actual['mantenance'] = np.where(df_actual['timestamp']==mantenance_date, 1, 0)\n",
    "\n",
    "df_final2 = complete_df(df_targuet, df_actual, deviceName, deviceUuid, component, componentName, componentId, measurementType, dataItemId, name, sequence)"
   ]
  },
  {
   "cell_type": "code",
   "execution_count": 36,
   "metadata": {
    "ExecuteTime": {
     "end_time": "2024-03-21T01:43:55.562768300Z",
     "start_time": "2024-03-21T01:43:55.549691200Z"
    }
   },
   "outputs": [],
   "source": [
    "# create speed dataframe\n",
    "df_speed = pd.concat([df_final1, df_final2])"
   ]
  },
  {
   "cell_type": "markdown",
   "metadata": {},
   "source": [
    "## Linear"
   ]
  },
  {
   "cell_type": "code",
   "execution_count": 37,
   "metadata": {
    "ExecuteTime": {
     "end_time": "2024-03-21T01:43:55.848721100Z",
     "start_time": "2024-03-21T01:43:55.575307300Z"
    }
   },
   "outputs": [],
   "source": [
    "# Parameters of machine\n",
    "dataItemId = 'x1Current'\n",
    "name = 'MotorCurrent'\n",
    "measurementType = 'Amperage'\n",
    "component = 'Linear'\n",
    "componentName = 'X'\n",
    "componentId = 'x1'\n",
    "maintenance_date = (datetime.now()- timedelta(days=number_of_days*(2/3))).strftime('%Y-%m-%d %H:%M:%S')\n",
    "deviceName = 'f170'\n",
    "deviceUuid = 'D12827'\n",
    "sequence = 22405688\n",
    "\n",
    "# Simulation\n",
    "df_target = create_simulation(start_date,finish_date, mu = 2, sigma = 1, min = 0, max = 2)\n",
    "df_targuet['subType'] = 'TARGET'\n",
    "df_targuet['mantenance'] = 0\n",
    "\n",
    "df_actual = create_simulation(start_date,finish_date, mu = 1, sigma = 0.5, min = 0, max = 2)\n",
    "df_actual['subType'] = 'ACTUAL'\n",
    "df_actual['mantenance'] = np.where(df_actual['timestamp']==mantenance_date, 1, 0)\n",
    "\n",
    "df_final1 = complete_df(df_targuet, df_actual, deviceName, deviceUuid, component, componentName, componentId, measurementType, dataItemId, name, sequence)"
   ]
  },
  {
   "cell_type": "code",
   "execution_count": 38,
   "metadata": {
    "ExecuteTime": {
     "end_time": "2024-03-21T01:43:55.981356Z",
     "start_time": "2024-03-21T01:43:55.844724600Z"
    }
   },
   "outputs": [],
   "source": [
    "# Parameters of machine\n",
    "dataItemId = 'z1Current'\n",
    "name = 'MotorCurrent'\n",
    "measurementType = 'Amperage'\n",
    "component = 'Linear'\n",
    "componentName = 'Z'\n",
    "componentId = 'z1'\n",
    "mantenance_date = (datetime.now()- timedelta(days=number_of_days*(2/3))).strftime('%Y-%m-%d %H:%M:%S')\n",
    "deviceName = 'f170'\n",
    "deviceUuid = 'D12827'\n",
    "sequence = 22405688\n",
    "\n",
    "# Simulation\n",
    "df_targuet = create_simulation(start_date,finish_date, mu = 2, sigma = 1, min = 0, max = 2)\n",
    "df_targuet['subType'] = 'TARGET'\n",
    "df_targuet['mantenance'] = 0\n",
    "\n",
    "df_actual = create_simulation(start_date,finish_date, mu = 1, sigma = 0.5, min = 0, max = 2)\n",
    "df_actual['subType'] = 'ACTUAL'\n",
    "df_actual['maintenance'] = np.where(df_actual['timestamp']==mantenance_date, 1, 0)\n",
    "\n",
    "df_final2 = complete_df(df_targuet, df_actual, deviceName, deviceUuid, component, componentName, componentId, measurementType, dataItemId, name, sequence)"
   ]
  },
  {
   "cell_type": "code",
   "execution_count": 39,
   "metadata": {
    "ExecuteTime": {
     "end_time": "2024-03-21T01:43:55.983362900Z",
     "start_time": "2024-03-21T01:43:55.980355900Z"
    }
   },
   "outputs": [],
   "source": [
    "# Create linear dataframe\n",
    "df_linear = pd.concat([df_final1, df_final2])"
   ]
  },
  {
   "cell_type": "markdown",
   "metadata": {},
   "source": [
    "## Join all tables"
   ]
  },
  {
   "cell_type": "code",
   "execution_count": 40,
   "metadata": {
    "ExecuteTime": {
     "end_time": "2024-03-21T01:43:55.988364700Z",
     "start_time": "2024-03-21T01:43:55.981356Z"
    }
   },
   "outputs": [],
   "source": [
    "# Create final dataframe to load to MySQL\n",
    "df_final = pd.concat([df_temperature, df_speed, df_linear])"
   ]
  },
  {
   "cell_type": "markdown",
   "metadata": {},
   "source": [
    "# Load Data"
   ]
  },
  {
   "cell_type": "code",
   "execution_count": 41,
   "metadata": {
    "ExecuteTime": {
     "end_time": "2024-03-21T01:43:56.004444400Z",
     "start_time": "2024-03-21T01:43:55.981356Z"
    }
   },
   "outputs": [
    {
     "name": "stdout",
     "output_type": "stream",
     "text": [
      "Rows to load to MySQL: 10812\n",
      "Expected time: 0.0124338 minutes\n"
     ]
    }
   ],
   "source": [
    "print(\"Rows to load to MySQL:\", len(df_final))\n",
    "print(\"Expected time:\", (len(df_final)/1_000_000)*1.15, \"minutes\")"
   ]
  },
  {
   "cell_type": "code",
   "execution_count": 42,
   "metadata": {
    "ExecuteTime": {
     "end_time": "2024-03-21T01:45:08.276017500Z",
     "start_time": "2024-03-21T01:43:55.982365400Z"
    }
   },
   "outputs": [
    {
     "name": "stdout",
     "output_type": "stream",
     "text": [
      "DataFrame has been loaded into the database.\n"
     ]
    }
   ],
   "source": [
    "# Load the data to MySQL\n",
    "load_MySQL('Stratasys',df_final)"
   ]
  }
 ],
 "metadata": {
  "kernelspec": {
   "display_name": "Python 3",
   "language": "python",
   "name": "python3"
  },
  "language_info": {
   "codemirror_mode": {
    "name": "ipython",
    "version": 3
   },
   "file_extension": ".py",
   "mimetype": "text/x-python",
   "name": "python",
   "nbconvert_exporter": "python",
   "pygments_lexer": "ipython3",
   "version": "3.11.8"
  }
 },
 "nbformat": 4,
 "nbformat_minor": 2
}
