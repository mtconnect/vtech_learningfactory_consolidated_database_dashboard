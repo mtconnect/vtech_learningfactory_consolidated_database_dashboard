{
 "cells": [
  {
   "cell_type": "code",
   "execution_count": 1,
   "metadata": {
    "ExecuteTime": {
     "end_time": "2024-03-21T01:47:15.188134100Z",
     "start_time": "2024-03-21T01:47:10.974003100Z"
    }
   },
   "outputs": [],
   "source": [
    "import xml.etree.ElementTree as ET\n",
    "import pandas as pd\n",
    "import numpy as np\n",
    "from sqlalchemy import create_engine\n",
    "from datetime import datetime\n",
    "from datetime import timedelta"
   ]
  },
  {
   "cell_type": "markdown",
   "metadata": {},
   "source": [
    "# Functions"
   ]
  },
  {
   "cell_type": "code",
   "execution_count": 2,
   "metadata": {
    "ExecuteTime": {
     "end_time": "2024-03-21T01:47:15.208493900Z",
     "start_time": "2024-03-21T01:47:14.073798600Z"
    }
   },
   "outputs": [],
   "source": [
    "# Function to load data to Mysql\n",
    "def load_MySQL(table_name,new_dataframe):\n",
    "\n",
    "    # Replace the following with your own database connection details\n",
    "    db_username = 'u681559533_AMT'\n",
    "    db_password = 'MVT2024VTise'\n",
    "    db_host = '193.203.166.160'\n",
    "    db_port = '3306'\n",
    "    db_name = 'u681559533_VT_LF_DB'\n",
    "\n",
    "    # Create the database engine\n",
    "    engine = create_engine(f'mysql+pymysql://{db_username}:{db_password}@{db_host}:{db_port}/{db_name}')\n",
    "\n",
    "    # Load the DataFrame into MySQL table\n",
    "    new_dataframe.to_sql(name=table_name, con=engine, if_exists='replace', index=False, chunksize=500_000)\n",
    "\n",
    "    print(\"DataFrame has been loaded into the database.\")\n",
    "\n",
    "    return None"
   ]
  },
  {
   "cell_type": "markdown",
   "metadata": {},
   "source": [
    "# Read Data"
   ]
  },
  {
   "cell_type": "code",
   "execution_count": 3,
   "metadata": {
    "ExecuteTime": {
     "end_time": "2024-03-21T01:47:15.245574600Z",
     "start_time": "2024-03-21T01:47:14.099888600Z"
    }
   },
   "outputs": [],
   "source": [
    "root = ET.parse('UR5Schema.xml')\n",
    "\n",
    "# Define namespace to handle the default namespace in the XML\n",
    "namespaces = {'ns': 'urn:mtconnect.org:MTConnectDevices:1.7'}\n",
    "\n",
    "# Initialize a list to store extracted data\n",
    "data = []\n",
    "\n",
    "# Iterate through each device in the XML\n",
    "for device in root.findall('.//ns:Device', namespaces):\n",
    "    device_info = {\n",
    "        'id': device.get('id'),\n",
    "        'uuid': device.get('uuid'),\n",
    "        'name': device.get('name'),\n",
    "        'mtconnectVersion': device.get('mtconnectVersion'),\n",
    "        'manufacturer': device.find('.//ns:Description', namespaces).get('manufacturer'),\n",
    "        'model': device.find('.//ns:Description', namespaces).get('model'),\n",
    "        'serialNumber': device.find('.//ns:Description', namespaces).get('serialNumber'),\n",
    "    }\n",
    "    # Iterate through each DataItem in the device\n",
    "    for data_item in device.findall('.//ns:DataItem', namespaces):\n",
    "        data_item_info = {\n",
    "            'dataItemId': data_item.get('id'),\n",
    "            'name': data_item.get('name'),\n",
    "            'category': data_item.get('category'),\n",
    "            'type': data_item.get('type'),\n",
    "            'subType': data_item.get('subType', 'N/A'),  # Handle missing subType with 'N/A'\n",
    "            'compositionId': data_item.get('compositionId', 'N/A')  # Handle missing compositionId with 'N/A'\n",
    "        }\n",
    "        # Combine device info with data item info\n",
    "        combined_info = {**device_info, **data_item_info}\n",
    "        data.append(combined_info)\n",
    "\n",
    "# Create DataFrame\n",
    "df = pd.DataFrame(data)"
   ]
  },
  {
   "cell_type": "code",
   "execution_count": 4,
   "metadata": {
    "ExecuteTime": {
     "end_time": "2024-03-21T01:47:15.285189Z",
     "start_time": "2024-03-21T01:47:15.149991600Z"
    }
   },
   "outputs": [
    {
     "data": {
      "text/plain": "     id  uuid              name mtconnectVersion     manufacturer    model  \\\n0   UR5  UR5e             avail              1.7  UniversalRobots  UR5 CB3   \n1   UR5  UR5e     asset_changed              1.7  UniversalRobots  UR5 CB3   \n2   UR5  UR5e     asset_removed              1.7  UniversalRobots  UR5 CB3   \n3   UR5  UR5e   functional_mode              1.7  UniversalRobots  UR5 CB3   \n4   UR5  UR5e  compostionstate1              1.7  UniversalRobots  UR5 CB3   \n5   UR5  UR5e                j0              1.7  UniversalRobots  UR5 CB3   \n6   UR5  UR5e                j1              1.7  UniversalRobots  UR5 CB3   \n7   UR5  UR5e                j2              1.7  UniversalRobots  UR5 CB3   \n8   UR5  UR5e                j3              1.7  UniversalRobots  UR5 CB3   \n9   UR5  UR5e                j4              1.7  UniversalRobots  UR5 CB3   \n10  UR5  UR5e                j5              1.7  UniversalRobots  UR5 CB3   \n\n   serialNumber       dataItemId category               type subType  \\\n0    2014350001            avail    EVENT       AVAILABILITY     N/A   \n1    2014350001    asset_changed    EVENT      ASSET_CHANGED     N/A   \n2    2014350001    asset_removed    EVENT      ASSET_REMOVED     N/A   \n3    2014350001  functional_mode    EVENT    FUNCTIONAL_MODE     N/A   \n4    2014350001     gripperstate    EVENT  COMPOSITION_STATE  MOTION   \n5    2014350001           122123   SAMPLE              ANGLE  ACTUAL   \n6    2014350001           122223   SAMPLE              ANGLE  ACTUAL   \n7    2014350001           122323   SAMPLE              ANGLE  ACTUAL   \n8    2014350001           122121   SAMPLE              ANGLE  ACTUAL   \n9    2014350001           122221   SAMPLE              ANGLE  ACTUAL   \n10   2014350001           122321   SAMPLE              ANGLE  ACTUAL   \n\n     compositionId  \n0              N/A  \n1              N/A  \n2              N/A  \n3              N/A  \n4   GripperControl  \n5              N/A  \n6              N/A  \n7              N/A  \n8              N/A  \n9              N/A  \n10             N/A  ",
      "text/html": "<div>\n<style scoped>\n    .dataframe tbody tr th:only-of-type {\n        vertical-align: middle;\n    }\n\n    .dataframe tbody tr th {\n        vertical-align: top;\n    }\n\n    .dataframe thead th {\n        text-align: right;\n    }\n</style>\n<table border=\"1\" class=\"dataframe\">\n  <thead>\n    <tr style=\"text-align: right;\">\n      <th></th>\n      <th>id</th>\n      <th>uuid</th>\n      <th>name</th>\n      <th>mtconnectVersion</th>\n      <th>manufacturer</th>\n      <th>model</th>\n      <th>serialNumber</th>\n      <th>dataItemId</th>\n      <th>category</th>\n      <th>type</th>\n      <th>subType</th>\n      <th>compositionId</th>\n    </tr>\n  </thead>\n  <tbody>\n    <tr>\n      <th>0</th>\n      <td>UR5</td>\n      <td>UR5e</td>\n      <td>avail</td>\n      <td>1.7</td>\n      <td>UniversalRobots</td>\n      <td>UR5 CB3</td>\n      <td>2014350001</td>\n      <td>avail</td>\n      <td>EVENT</td>\n      <td>AVAILABILITY</td>\n      <td>N/A</td>\n      <td>N/A</td>\n    </tr>\n    <tr>\n      <th>1</th>\n      <td>UR5</td>\n      <td>UR5e</td>\n      <td>asset_changed</td>\n      <td>1.7</td>\n      <td>UniversalRobots</td>\n      <td>UR5 CB3</td>\n      <td>2014350001</td>\n      <td>asset_changed</td>\n      <td>EVENT</td>\n      <td>ASSET_CHANGED</td>\n      <td>N/A</td>\n      <td>N/A</td>\n    </tr>\n    <tr>\n      <th>2</th>\n      <td>UR5</td>\n      <td>UR5e</td>\n      <td>asset_removed</td>\n      <td>1.7</td>\n      <td>UniversalRobots</td>\n      <td>UR5 CB3</td>\n      <td>2014350001</td>\n      <td>asset_removed</td>\n      <td>EVENT</td>\n      <td>ASSET_REMOVED</td>\n      <td>N/A</td>\n      <td>N/A</td>\n    </tr>\n    <tr>\n      <th>3</th>\n      <td>UR5</td>\n      <td>UR5e</td>\n      <td>functional_mode</td>\n      <td>1.7</td>\n      <td>UniversalRobots</td>\n      <td>UR5 CB3</td>\n      <td>2014350001</td>\n      <td>functional_mode</td>\n      <td>EVENT</td>\n      <td>FUNCTIONAL_MODE</td>\n      <td>N/A</td>\n      <td>N/A</td>\n    </tr>\n    <tr>\n      <th>4</th>\n      <td>UR5</td>\n      <td>UR5e</td>\n      <td>compostionstate1</td>\n      <td>1.7</td>\n      <td>UniversalRobots</td>\n      <td>UR5 CB3</td>\n      <td>2014350001</td>\n      <td>gripperstate</td>\n      <td>EVENT</td>\n      <td>COMPOSITION_STATE</td>\n      <td>MOTION</td>\n      <td>GripperControl</td>\n    </tr>\n    <tr>\n      <th>5</th>\n      <td>UR5</td>\n      <td>UR5e</td>\n      <td>j0</td>\n      <td>1.7</td>\n      <td>UniversalRobots</td>\n      <td>UR5 CB3</td>\n      <td>2014350001</td>\n      <td>122123</td>\n      <td>SAMPLE</td>\n      <td>ANGLE</td>\n      <td>ACTUAL</td>\n      <td>N/A</td>\n    </tr>\n    <tr>\n      <th>6</th>\n      <td>UR5</td>\n      <td>UR5e</td>\n      <td>j1</td>\n      <td>1.7</td>\n      <td>UniversalRobots</td>\n      <td>UR5 CB3</td>\n      <td>2014350001</td>\n      <td>122223</td>\n      <td>SAMPLE</td>\n      <td>ANGLE</td>\n      <td>ACTUAL</td>\n      <td>N/A</td>\n    </tr>\n    <tr>\n      <th>7</th>\n      <td>UR5</td>\n      <td>UR5e</td>\n      <td>j2</td>\n      <td>1.7</td>\n      <td>UniversalRobots</td>\n      <td>UR5 CB3</td>\n      <td>2014350001</td>\n      <td>122323</td>\n      <td>SAMPLE</td>\n      <td>ANGLE</td>\n      <td>ACTUAL</td>\n      <td>N/A</td>\n    </tr>\n    <tr>\n      <th>8</th>\n      <td>UR5</td>\n      <td>UR5e</td>\n      <td>j3</td>\n      <td>1.7</td>\n      <td>UniversalRobots</td>\n      <td>UR5 CB3</td>\n      <td>2014350001</td>\n      <td>122121</td>\n      <td>SAMPLE</td>\n      <td>ANGLE</td>\n      <td>ACTUAL</td>\n      <td>N/A</td>\n    </tr>\n    <tr>\n      <th>9</th>\n      <td>UR5</td>\n      <td>UR5e</td>\n      <td>j4</td>\n      <td>1.7</td>\n      <td>UniversalRobots</td>\n      <td>UR5 CB3</td>\n      <td>2014350001</td>\n      <td>122221</td>\n      <td>SAMPLE</td>\n      <td>ANGLE</td>\n      <td>ACTUAL</td>\n      <td>N/A</td>\n    </tr>\n    <tr>\n      <th>10</th>\n      <td>UR5</td>\n      <td>UR5e</td>\n      <td>j5</td>\n      <td>1.7</td>\n      <td>UniversalRobots</td>\n      <td>UR5 CB3</td>\n      <td>2014350001</td>\n      <td>122321</td>\n      <td>SAMPLE</td>\n      <td>ANGLE</td>\n      <td>ACTUAL</td>\n      <td>N/A</td>\n    </tr>\n  </tbody>\n</table>\n</div>"
     },
     "execution_count": 4,
     "metadata": {},
     "output_type": "execute_result"
    }
   ],
   "source": [
    "df"
   ]
  },
  {
   "cell_type": "markdown",
   "metadata": {},
   "source": [
    "# Load Data"
   ]
  },
  {
   "cell_type": "code",
   "execution_count": 5,
   "metadata": {
    "ExecuteTime": {
     "end_time": "2024-03-21T01:47:15.303830800Z",
     "start_time": "2024-03-21T01:47:15.194534400Z"
    }
   },
   "outputs": [
    {
     "name": "stdout",
     "output_type": "stream",
     "text": [
      "Rows to load to MySQL: 11\n",
      "Expected time: 1.265e-05 minutes\n"
     ]
    }
   ],
   "source": [
    "print(\"Rows to load to MySQL:\", len(df))\n",
    "print(\"Expected time:\", (len(df)/1_000_000)*1.15, \"minutes\")"
   ]
  },
  {
   "cell_type": "code",
   "execution_count": 6,
   "metadata": {
    "ExecuteTime": {
     "end_time": "2024-03-21T01:47:19.041285500Z",
     "start_time": "2024-03-21T01:47:15.204482200Z"
    }
   },
   "outputs": [
    {
     "name": "stdout",
     "output_type": "stream",
     "text": [
      "DataFrame has been loaded into the database.\n"
     ]
    }
   ],
   "source": [
    "# Load the data to MySQL\n",
    "load_MySQL('Ur5',df)"
   ]
  }
 ],
 "metadata": {
  "kernelspec": {
   "display_name": "Python 3",
   "language": "python",
   "name": "python3"
  },
  "language_info": {
   "codemirror_mode": {
    "name": "ipython",
    "version": 3
   },
   "file_extension": ".py",
   "mimetype": "text/x-python",
   "name": "python",
   "nbconvert_exporter": "python",
   "pygments_lexer": "ipython3",
   "version": "3.11.8"
  }
 },
 "nbformat": 4,
 "nbformat_minor": 2
}
