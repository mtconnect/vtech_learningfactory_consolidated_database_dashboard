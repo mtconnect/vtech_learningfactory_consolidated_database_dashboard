{
 "cells": [
  {
   "cell_type": "code",
   "execution_count": 1,
   "metadata": {
    "ExecuteTime": {
     "end_time": "2024-03-21T01:17:11.111328100Z",
     "start_time": "2024-03-21T01:17:09.251000600Z"
    }
   },
   "outputs": [],
   "source": [
    "import xml.etree.ElementTree as ET\n",
    "import pandas as pd\n",
    "import numpy as np\n",
    "from sqlalchemy import create_engine\n",
    "from datetime import datetime\n",
    "from datetime import timedelta"
   ]
  },
  {
   "cell_type": "markdown",
   "metadata": {},
   "source": [
    "# Functions"
   ]
  },
  {
   "cell_type": "code",
   "execution_count": 2,
   "metadata": {
    "ExecuteTime": {
     "end_time": "2024-03-21T01:17:11.147673200Z",
     "start_time": "2024-03-21T01:17:11.112329700Z"
    }
   },
   "outputs": [],
   "source": [
    "# Function to load data to Mysql\n",
    "def load_MySQL(table_name,new_dataframe):\n",
    "\n",
    "    # database connection details\n",
    "    db_username = 'u681559533_AMT'\n",
    "    db_password = 'MVT2024VTise'\n",
    "    db_host = '193.203.166.160'\n",
    "    db_port = '3306'\n",
    "    db_name = 'u681559533_VT_LF_DB'\n",
    "\n",
    "    # Create the database engine\n",
    "    engine = create_engine(f'mysql+pymysql://{db_username}:{db_password}@{db_host}:{db_port}/{db_name}')\n",
    "\n",
    "    # Load the DataFrame into MySQL table\n",
    "    new_dataframe.to_sql(name=table_name, con=engine, if_exists='replace', index=False, chunksize=100_000)\n",
    "\n",
    "    print(\"DataFrame has been loaded into the database.\")\n",
    "\n",
    "    return None"
   ]
  },
  {
   "cell_type": "code",
   "execution_count": 3,
   "metadata": {
    "ExecuteTime": {
     "end_time": "2024-03-21T01:17:11.165099100Z",
     "start_time": "2024-03-21T01:17:11.135328900Z"
    }
   },
   "outputs": [],
   "source": [
    "# Function to create simulation\n",
    "# The parameters of the function can be change so it can simulate diferent values\n",
    "def create_simulation(date_start, # Its the date when the simulation start\n",
    "                      date_finish, # Its the date when the simulation finish\n",
    "                      mu = 1, # Its the middle value that the distribution its going to take\n",
    "                      sigma = 1, # Its the variance of the simulation\n",
    "                      min = 0, # Its the min value that the simulation can take\n",
    "                      max = 2): # Its the max value that the simulation can take\n",
    "\n",
    "    # Create date range\n",
    "    range_dates = pd.date_range(start=date_start, end=date_finish, freq='s')\n",
    "\n",
    "    # Create DataFrame\n",
    "    df_dates = pd.DataFrame(range_dates, columns=['timestamp'])\n",
    "\n",
    "    # Generate the random normal distribution\n",
    "    random_num = np.random.normal(mu, sigma, size=len(df_dates))\n",
    "\n",
    "    # Add column to DataFrame\n",
    "    df_dates['value'] = random_num\n",
    "\n",
    "    df_dates['value'] = np.where(df_dates['value'] < min, min, df_dates['value'])\n",
    "\n",
    "    df_dates['value'] = np.where(df_dates['value'] > max, max, df_dates['value'])\n",
    "    \n",
    "    return df_dates"
   ]
  },
  {
   "cell_type": "code",
   "execution_count": 4,
   "metadata": {
    "ExecuteTime": {
     "end_time": "2024-03-21T01:17:11.204472900Z",
     "start_time": "2024-03-21T01:17:11.162098200Z"
    }
   },
   "outputs": [],
   "source": [
    "# Function to adjust dataframe to XML data structure\n",
    "def complete_df(df1, df2, deviceName, deviceUuid, component, componentName, componentId, measurementType, dataItemId, name, sequence):\n",
    "    dft = pd.concat([df1, df2])\n",
    "    dft['deviceName'] = deviceName\n",
    "    dft['deviceUuid'] = deviceUuid\n",
    "    dft['component'] = component\n",
    "    dft['componentName'] = componentName\n",
    "    dft['componentId'] = componentId\n",
    "    dft['measurementType'] = measurementType\n",
    "    dft['dataItemId'] = dataItemId\n",
    "    dft['name'] = name\n",
    "    dft['sequence'] = sequence\n",
    "    \n",
    "    dft = dft[['deviceName', 'deviceUuid', 'component', 'componentName', 'componentId', 'measurementType', 'dataItemId', 'timestamp', 'name', 'sequence', 'subType', 'value', 'mantenance']]\n",
    "    return dft"
   ]
  },
  {
   "cell_type": "markdown",
   "metadata": {},
   "source": [
    "# Read Data"
   ]
  },
  {
   "cell_type": "code",
   "execution_count": 5,
   "metadata": {
    "ExecuteTime": {
     "end_time": "2024-03-21T01:17:11.299377500Z",
     "start_time": "2024-03-21T01:17:11.200431500Z"
    }
   },
   "outputs": [],
   "source": [
    "root = ET.parse('hassur5.xml')\n",
    "\n",
    "# Prepare a list to hold extracted data\n",
    "data = []\n",
    "\n",
    "for device_stream in root.findall('.//{urn:mtconnect.org:MTConnectStreams:1.7}DeviceStream'):\n",
    "    device_name = device_stream.attrib.get('name')\n",
    "    device_uuid = device_stream.attrib.get('uuid')\n",
    "    for component_stream in device_stream.findall('.//{urn:mtconnect.org:MTConnectStreams:1.7}ComponentStream'):\n",
    "        component = component_stream.attrib.get('component')\n",
    "        component_name = component_stream.attrib.get('name')\n",
    "        component_id = component_stream.attrib.get('componentId')\n",
    "        for samples in component_stream.findall('.//{urn:mtconnect.org:MTConnectStreams:1.7}Samples'):\n",
    "            for sample in samples:\n",
    "                # Extract all attributes of the sample\n",
    "                sample_data = {attr: sample.attrib.get(attr) for attr in sample.attrib}\n",
    "                sample_data['value'] = sample.text\n",
    "                sample_data['componentName'] = component_name\n",
    "                sample_data['componentId'] = component_id\n",
    "                sample_data['deviceName'] = device_name\n",
    "                sample_data['deviceUuid'] = device_uuid\n",
    "                sample_data['component'] = component\n",
    "                sample_data['measurementType'] = sample.tag.split('}')[1]  # To get 'Amperage', 'Voltage', etc.\n",
    "                data.append(sample_data)\n",
    "                \n",
    "# Convert the list of dictionaries into a DataFrame\n",
    "df = pd.DataFrame(data)\n",
    "\n",
    "df = df[['deviceName','deviceUuid','component','componentName','componentId','measurementType','dataItemId', 'timestamp', 'name', 'sequence', 'subType', 'value']].copy()"
   ]
  },
  {
   "cell_type": "code",
   "execution_count": 6,
   "metadata": {
    "ExecuteTime": {
     "end_time": "2024-03-21T01:17:11.393197600Z",
     "start_time": "2024-03-21T01:17:11.301389800Z"
    }
   },
   "outputs": [
    {
     "data": {
      "text/plain": "  deviceName deviceUuid component componentName componentId measurementType  \\\n0  VMC-3Axis   HAAS-VF3    Rotary             A          ar           Angle   \n1  VMC-3Axis   HAAS-VF3    Rotary             A          ar           Angle   \n2  VMC-3Axis   HAAS-VF3    Rotary             A          ar           Angle   \n3  VMC-3Axis   HAAS-VF3    Rotary             A          ar           Angle   \n4  VMC-3Axis   HAAS-VF3    Rotary             A          ar           Angle   \n\n  dataItemId                    timestamp      name sequence subType    value  \n0      aposm  2022-01-06T19:57:13.855198Z  aMachine   957858  ACTUAL       94  \n1      aposm  2022-01-06T19:57:16.023847Z  aMachine   957866  ACTUAL       90  \n2      aposm   2022-01-06T20:00:43.07041Z  aMachine   958489  ACTUAL  -6.1077  \n3      aposm  2022-01-06T20:00:44.999016Z  aMachine   958496  ACTUAL        0  \n4      aposm  2022-01-06T20:00:58.644756Z  aMachine   958512  ACTUAL       90  ",
      "text/html": "<div>\n<style scoped>\n    .dataframe tbody tr th:only-of-type {\n        vertical-align: middle;\n    }\n\n    .dataframe tbody tr th {\n        vertical-align: top;\n    }\n\n    .dataframe thead th {\n        text-align: right;\n    }\n</style>\n<table border=\"1\" class=\"dataframe\">\n  <thead>\n    <tr style=\"text-align: right;\">\n      <th></th>\n      <th>deviceName</th>\n      <th>deviceUuid</th>\n      <th>component</th>\n      <th>componentName</th>\n      <th>componentId</th>\n      <th>measurementType</th>\n      <th>dataItemId</th>\n      <th>timestamp</th>\n      <th>name</th>\n      <th>sequence</th>\n      <th>subType</th>\n      <th>value</th>\n    </tr>\n  </thead>\n  <tbody>\n    <tr>\n      <th>0</th>\n      <td>VMC-3Axis</td>\n      <td>HAAS-VF3</td>\n      <td>Rotary</td>\n      <td>A</td>\n      <td>ar</td>\n      <td>Angle</td>\n      <td>aposm</td>\n      <td>2022-01-06T19:57:13.855198Z</td>\n      <td>aMachine</td>\n      <td>957858</td>\n      <td>ACTUAL</td>\n      <td>94</td>\n    </tr>\n    <tr>\n      <th>1</th>\n      <td>VMC-3Axis</td>\n      <td>HAAS-VF3</td>\n      <td>Rotary</td>\n      <td>A</td>\n      <td>ar</td>\n      <td>Angle</td>\n      <td>aposm</td>\n      <td>2022-01-06T19:57:16.023847Z</td>\n      <td>aMachine</td>\n      <td>957866</td>\n      <td>ACTUAL</td>\n      <td>90</td>\n    </tr>\n    <tr>\n      <th>2</th>\n      <td>VMC-3Axis</td>\n      <td>HAAS-VF3</td>\n      <td>Rotary</td>\n      <td>A</td>\n      <td>ar</td>\n      <td>Angle</td>\n      <td>aposm</td>\n      <td>2022-01-06T20:00:43.07041Z</td>\n      <td>aMachine</td>\n      <td>958489</td>\n      <td>ACTUAL</td>\n      <td>-6.1077</td>\n    </tr>\n    <tr>\n      <th>3</th>\n      <td>VMC-3Axis</td>\n      <td>HAAS-VF3</td>\n      <td>Rotary</td>\n      <td>A</td>\n      <td>ar</td>\n      <td>Angle</td>\n      <td>aposm</td>\n      <td>2022-01-06T20:00:44.999016Z</td>\n      <td>aMachine</td>\n      <td>958496</td>\n      <td>ACTUAL</td>\n      <td>0</td>\n    </tr>\n    <tr>\n      <th>4</th>\n      <td>VMC-3Axis</td>\n      <td>HAAS-VF3</td>\n      <td>Rotary</td>\n      <td>A</td>\n      <td>ar</td>\n      <td>Angle</td>\n      <td>aposm</td>\n      <td>2022-01-06T20:00:58.644756Z</td>\n      <td>aMachine</td>\n      <td>958512</td>\n      <td>ACTUAL</td>\n      <td>90</td>\n    </tr>\n  </tbody>\n</table>\n</div>"
     },
     "execution_count": 6,
     "metadata": {},
     "output_type": "execute_result"
    }
   ],
   "source": [
    "df[(df['component']=='Rotary')&(df['measurementType']=='Angle')].head()"
   ]
  },
  {
   "cell_type": "markdown",
   "metadata": {},
   "source": [
    "# Simulation"
   ]
  },
  {
   "cell_type": "code",
   "execution_count": 7,
   "metadata": {
    "ExecuteTime": {
     "end_time": "2024-03-21T01:17:11.403717800Z",
     "start_time": "2024-03-21T01:17:11.345062900Z"
    }
   },
   "outputs": [],
   "source": [
    "# Parameters\n",
    "number_of_days = 0\n",
    "start_date = (datetime.now()- timedelta(days=number_of_days,hours=0,minutes=15)).strftime('%Y-%m-%d %H:%M:%S')\n",
    "finish_date = (datetime.now()).strftime('%Y-%m-%d %H:%M:%S')"
   ]
  },
  {
   "cell_type": "markdown",
   "metadata": {},
   "source": [
    "## Angle"
   ]
  },
  {
   "cell_type": "code",
   "execution_count": 8,
   "metadata": {
    "ExecuteTime": {
     "end_time": "2024-03-21T01:17:11.449629500Z",
     "start_time": "2024-03-21T01:17:11.351445500Z"
    }
   },
   "outputs": [],
   "source": [
    "# Parameters of machine\n",
    "dataItemId = 'aposm'\n",
    "name = 'aMachine'\n",
    "measurementType = 'Angle'\n",
    "component = 'Rotary'\n",
    "componentName = 'A'\n",
    "componentId = 'ar'\n",
    "mantenance_date = (datetime.now()- timedelta(days=number_of_days*(2/3))).strftime('%Y-%m-%d %H:%M:%S')\n",
    "deviceName = 'VMC-3Axis'\n",
    "deviceUuid = 'HAAS-VF3'\n",
    "sequence = 22405688\n",
    "\n",
    "# Simulation\n",
    "df_targuet = create_simulation(start_date,finish_date, mu = 2, sigma = 1, min = 0, max = 2)\n",
    "df_targuet['subType'] = 'TARGET'\n",
    "df_targuet['mantenance'] = 0\n",
    "\n",
    "df_actual = create_simulation(start_date,finish_date, mu = 1, sigma = 0.5, min = 0, max = 2)\n",
    "df_actual['subType'] = 'ACTUAL'\n",
    "df_actual['mantenance'] = np.where(df_actual['timestamp']==mantenance_date, 1, 0)\n",
    "\n",
    "df_final1 = complete_df(df_targuet, df_actual, deviceName, deviceUuid, component, componentName, componentId, measurementType, dataItemId, name, sequence)"
   ]
  },
  {
   "cell_type": "code",
   "execution_count": 9,
   "metadata": {
    "ExecuteTime": {
     "end_time": "2024-03-21T01:17:11.698383800Z",
     "start_time": "2024-03-21T01:17:11.443628200Z"
    }
   },
   "outputs": [],
   "source": [
    "# Parameters of machine\n",
    "dataItemId = 'aposw'\n",
    "name = 'aWork'\n",
    "measurementType = 'Angle'\n",
    "component = 'Rotary'\n",
    "componentName = 'A'\n",
    "componentId = 'ar'\n",
    "mantenance_date = (datetime.now()- timedelta(days=number_of_days*(2/3))).strftime('%Y-%m-%d %H:%M:%S')\n",
    "deviceName = 'VMC-3Axis'\n",
    "deviceUuid = 'HAAS-VF3'\n",
    "sequence = 22405688\n",
    "\n",
    "# Simulation\n",
    "df_targuet = create_simulation(start_date,finish_date, mu = 2, sigma = 1, min = 0, max = 2)\n",
    "df_targuet['subType'] = 'TARGET'\n",
    "df_targuet['mantenance'] = 0\n",
    "\n",
    "df_actual = create_simulation(start_date,finish_date, mu = 1, sigma = 0.5, min = 0, max = 2)\n",
    "df_actual['subType'] = 'ACTUAL'\n",
    "df_actual['mantenance'] = np.where(df_actual['timestamp']==mantenance_date, 1, 0)\n",
    "\n",
    "df_final2 = complete_df(df_targuet, df_actual, deviceName, deviceUuid, component, componentName, componentId, measurementType, dataItemId, name, sequence)"
   ]
  },
  {
   "cell_type": "code",
   "execution_count": 10,
   "metadata": {
    "ExecuteTime": {
     "end_time": "2024-03-21T01:17:11.701401500Z",
     "start_time": "2024-03-21T01:17:11.499721300Z"
    }
   },
   "outputs": [],
   "source": [
    "# Create angle dataframe\n",
    "df_Angle = pd.concat([df_final1, df_final2])"
   ]
  },
  {
   "cell_type": "markdown",
   "metadata": {},
   "source": [
    "## Rotatory Velocity"
   ]
  },
  {
   "cell_type": "code",
   "execution_count": 11,
   "metadata": {
    "ExecuteTime": {
     "end_time": "2024-03-21T01:17:11.702409500Z",
     "start_time": "2024-03-21T01:17:11.533386700Z"
    }
   },
   "outputs": [],
   "source": [
    "# Parameters of machine\n",
    "dataItemId = 'ss'\n",
    "name = 'spindleSpeed'\n",
    "measurementType = 'RotaryVelocity'\n",
    "component = 'Rotary'\n",
    "componentName = 'S'\n",
    "componentId = 'sr'\n",
    "mantenance_date = (datetime.now()- timedelta(days=number_of_days*(2/3))).strftime('%Y-%m-%d %H:%M:%S')\n",
    "deviceName = 'VMC-3Axis'\n",
    "deviceUuid = 'HAAS-VF3'\n",
    "sequence = 22405688\n",
    "\n",
    "# Simulation\n",
    "df_targuet = create_simulation(start_date,finish_date, mu = 20, sigma = 10, min = 0, max = 40)\n",
    "df_targuet['subType'] = 'TARGET'\n",
    "df_targuet['mantenance'] = 0\n",
    "\n",
    "df_actual = create_simulation(start_date,finish_date, mu = 10, sigma = 5, min = 0, max = 30)\n",
    "df_actual['subType'] = 'ACTUAL'\n",
    "df_actual['mantenance'] = np.where(df_actual['timestamp']==mantenance_date, 1, 0)\n",
    "\n",
    "# Create Rotary Velocity dataframe\n",
    "df_RotaryVelocity = complete_df(df_targuet, df_actual, deviceName, deviceUuid, component, componentName, componentId, measurementType, dataItemId, name, sequence)"
   ]
  },
  {
   "cell_type": "markdown",
   "metadata": {},
   "source": [
    "## Position"
   ]
  },
  {
   "cell_type": "code",
   "execution_count": 12,
   "metadata": {
    "ExecuteTime": {
     "end_time": "2024-03-21T01:17:11.877280200Z",
     "start_time": "2024-03-21T01:17:11.581929200Z"
    }
   },
   "outputs": [],
   "source": [
    "# Parameters of machine\n",
    "dataItemId = 'xpw'\n",
    "name = 'xWork'\n",
    "measurementType = 'Position'\n",
    "component = 'Linear'\n",
    "componentName = 'X'\n",
    "componentId = 'x'\n",
    "mantenance_date = (datetime.now()- timedelta(days=number_of_days*(2/3))).strftime('%Y-%m-%d %H:%M:%S')\n",
    "deviceName = 'VMC-3Axis'\n",
    "deviceUuid = 'HAAS-VF3'\n",
    "sequence = 22405688\n",
    "\n",
    "# Simulation\n",
    "df_targuet = create_simulation(start_date,finish_date, mu = 2, sigma = 1, min = 0, max = 2)\n",
    "df_targuet['subType'] = 'TARGET'\n",
    "df_targuet['mantenance'] = 0\n",
    "\n",
    "df_actual = create_simulation(start_date,finish_date, mu = 1, sigma = 0.5, min = 0, max = 2)\n",
    "df_actual['subType'] = 'ACTUAL'\n",
    "df_actual['mantenance'] = np.where(df_actual['timestamp']==mantenance_date, 1, 0)\n",
    "\n",
    "df_final2 = complete_df(df_targuet, df_actual, deviceName, deviceUuid, component, componentName, componentId, measurementType, dataItemId, name, sequence)\n",
    "\n",
    "# Parameters of machine\n",
    "dataItemId = 'xpw'\n",
    "name = 'xWork'\n",
    "measurementType = 'Position'\n",
    "component = 'Linear'\n",
    "componentName = 'X'\n",
    "componentId = 'x'\n",
    "mantenance_date = (datetime.now()- timedelta(days=number_of_days*(2/3))).strftime('%Y-%m-%d %H:%M:%S')\n",
    "deviceName = 'VMC-3Axis'\n",
    "deviceUuid = 'HAAS-VF3'\n",
    "sequence = 22405688\n",
    "\n",
    "# Simulation\n",
    "df_targuet = create_simulation(start_date,finish_date, mu = 2, sigma = 1, min = 0, max = 2)\n",
    "df_targuet['subType'] = 'TARGET'\n",
    "df_targuet['mantenance'] = 0\n",
    "\n",
    "df_actual = create_simulation(start_date,finish_date, mu = 1, sigma = 0.5, min = 0, max = 2)\n",
    "df_actual['subType'] = 'ACTUAL'\n",
    "df_actual['mantenance'] = np.where(df_actual['timestamp']==mantenance_date, 1, 0)\n",
    "\n",
    "df_final2 = complete_df(df_targuet, df_actual, deviceName, deviceUuid, component, componentName, componentId, measurementType, dataItemId, name, sequence)"
   ]
  },
  {
   "cell_type": "code",
   "execution_count": 13,
   "metadata": {
    "ExecuteTime": {
     "end_time": "2024-03-21T01:17:11.949837300Z",
     "start_time": "2024-03-21T01:17:11.656863300Z"
    }
   },
   "outputs": [],
   "source": [
    "# Parameters of machine\n",
    "dataItemId = 'ypw'\n",
    "name = 'yWork'\n",
    "measurementType = 'Position'\n",
    "component = 'Linear'\n",
    "componentName = 'Y'\n",
    "componentId = 'y'\n",
    "mantenance_date = (datetime.now()- timedelta(days=number_of_days*(2/3))).strftime('%Y-%m-%d %H:%M:%S')\n",
    "deviceName = 'VMC-3Axis'\n",
    "deviceUuid = 'HAAS-VF3'\n",
    "sequence = 22405688\n",
    "\n",
    "# Simulation\n",
    "df_targuet = create_simulation(start_date,finish_date, mu = 2, sigma = 1, min = 0, max = 2)\n",
    "df_targuet['subType'] = 'TARGET'\n",
    "df_targuet['mantenance'] = 0\n",
    "\n",
    "df_actual = create_simulation(start_date,finish_date, mu = 1, sigma = 0.5, min = 0, max = 2)\n",
    "df_actual['subType'] = 'ACTUAL'\n",
    "df_actual['mantenance'] = np.where(df_actual['timestamp']==mantenance_date, 1, 0)\n",
    "\n",
    "df_final3 = complete_df(df_targuet, df_actual, deviceName, deviceUuid, component, componentName, componentId, measurementType, dataItemId, name, sequence)\n",
    "\n",
    "# Parameters of machine\n",
    "dataItemId = 'ypw'\n",
    "name = 'yWork'\n",
    "measurementType = 'Position'\n",
    "component = 'Linear'\n",
    "componentName = 'Y'\n",
    "componentId = 'y'\n",
    "mantenance_date = (datetime.now()- timedelta(days=number_of_days*(2/3))).strftime('%Y-%m-%d %H:%M:%S')\n",
    "deviceName = 'VMC-3Axis'\n",
    "deviceUuid = 'HAAS-VF3'\n",
    "sequence = 22405688\n",
    "\n",
    "# Simulation\n",
    "df_targuet = create_simulation(start_date,finish_date, mu = 2, sigma = 1, min = 0, max = 2)\n",
    "df_targuet['subType'] = 'TARGET'\n",
    "df_targuet['mantenance'] = 0\n",
    "\n",
    "df_actual = create_simulation(start_date,finish_date, mu = 1, sigma = 0.5, min = 0, max = 2)\n",
    "df_actual['subType'] = 'ACTUAL'\n",
    "df_actual['mantenance'] = np.where(df_actual['timestamp']==mantenance_date, 1, 0)\n",
    "\n",
    "df_final4 = complete_df(df_targuet, df_actual, deviceName, deviceUuid, component, componentName, componentId, measurementType, dataItemId, name, sequence)"
   ]
  },
  {
   "cell_type": "code",
   "execution_count": 14,
   "metadata": {
    "ExecuteTime": {
     "end_time": "2024-03-21T01:17:11.982040800Z",
     "start_time": "2024-03-21T01:17:11.774436800Z"
    }
   },
   "outputs": [],
   "source": [
    "# Parameters of machine\n",
    "dataItemId = 'zpw'\n",
    "name = 'zWork'\n",
    "measurementType = 'Position'\n",
    "component = 'Linear'\n",
    "componentName = 'Z'\n",
    "componentId = 'z'\n",
    "mantenance_date = (datetime.now()- timedelta(days=number_of_days*(2/3))).strftime('%Y-%m-%d %H:%M:%S')\n",
    "deviceName = 'VMC-3Axis'\n",
    "deviceUuid = 'HAAS-VF3'\n",
    "sequence = 22405688\n",
    "\n",
    "# Simulation\n",
    "df_targuet = create_simulation(start_date,finish_date, mu = 2, sigma = 1, min = 0, max = 2)\n",
    "df_targuet['subType'] = 'TARGET'\n",
    "df_targuet['mantenance'] = 0\n",
    "\n",
    "df_actual = create_simulation(start_date,finish_date, mu = 1, sigma = 0.5, min = 0, max = 2)\n",
    "df_actual['subType'] = 'ACTUAL'\n",
    "df_actual['mantenance'] = np.where(df_actual['timestamp']==mantenance_date, 1, 0)\n",
    "\n",
    "df_final5 = complete_df(df_targuet, df_actual, deviceName, deviceUuid, component, componentName, componentId, measurementType, dataItemId, name, sequence)\n",
    "\n",
    "# Parameters of machine\n",
    "dataItemId = 'zpw'\n",
    "name = 'zWork'\n",
    "measurementType = 'Position'\n",
    "component = 'Linear'\n",
    "componentName = 'Z'\n",
    "componentId = 'z'\n",
    "mantenance_date = (datetime.now()- timedelta(days=number_of_days*(2/3))).strftime('%Y-%m-%d %H:%M:%S')\n",
    "deviceName = 'VMC-3Axis'\n",
    "deviceUuid = 'HAAS-VF3'\n",
    "sequence = 22405688\n",
    "\n",
    "# Simulation\n",
    "df_targuet = create_simulation(start_date,finish_date, mu = 2, sigma = 1, min = 0, max = 2)\n",
    "df_targuet['subType'] = 'TARGET'\n",
    "df_targuet['mantenance'] = 0\n",
    "\n",
    "df_actual = create_simulation(start_date,finish_date, mu = 1, sigma = 0.5, min = 0, max = 2)\n",
    "df_actual['subType'] = 'ACTUAL'\n",
    "df_actual['mantenance'] = np.where(df_actual['timestamp']==mantenance_date, 1, 0)\n",
    "\n",
    "df_final6 = complete_df(df_targuet, df_actual, deviceName, deviceUuid, component, componentName, componentId, measurementType, dataItemId, name, sequence)"
   ]
  },
  {
   "cell_type": "code",
   "execution_count": 15,
   "metadata": {
    "ExecuteTime": {
     "end_time": "2024-03-21T01:17:12.022929100Z",
     "start_time": "2024-03-21T01:17:11.888444700Z"
    }
   },
   "outputs": [],
   "source": [
    "# Create position dataframe\n",
    "df_Position = pd.concat([df_final1, df_final2, df_final3, df_final4, df_final5, df_final6])"
   ]
  },
  {
   "cell_type": "markdown",
   "metadata": {},
   "source": [
    "## Join all tables"
   ]
  },
  {
   "cell_type": "code",
   "execution_count": 16,
   "metadata": {
    "ExecuteTime": {
     "end_time": "2024-03-21T01:17:12.025933100Z",
     "start_time": "2024-03-21T01:17:11.918465700Z"
    }
   },
   "outputs": [],
   "source": [
    "# Create final dataframe to load to MySQL\n",
    "df_final = pd.concat([df_Angle, df_RotaryVelocity, df_Position])"
   ]
  },
  {
   "cell_type": "markdown",
   "metadata": {},
   "source": [
    "# Load Data"
   ]
  },
  {
   "cell_type": "code",
   "execution_count": 17,
   "metadata": {
    "ExecuteTime": {
     "end_time": "2024-03-21T01:17:12.045003700Z",
     "start_time": "2024-03-21T01:17:11.952105800Z"
    }
   },
   "outputs": [
    {
     "name": "stdout",
     "output_type": "stream",
     "text": [
      "Rows to load to MySQL: 16218\n",
      "Expected time: 0.0186507 minutes\n"
     ]
    }
   ],
   "source": [
    "print(\"Rows to load to MySQL:\", len(df_final))\n",
    "print(\"Expected time:\", (len(df_final)/1_000_000)*1.15, \"minutes\")"
   ]
  },
  {
   "cell_type": "code",
   "execution_count": 18,
   "metadata": {
    "ExecuteTime": {
     "end_time": "2024-03-21T01:17:26.098254500Z",
     "start_time": "2024-03-21T01:17:11.995986400Z"
    }
   },
   "outputs": [
    {
     "name": "stdout",
     "output_type": "stream",
     "text": [
      "DataFrame has been loaded into the database.\n"
     ]
    }
   ],
   "source": [
    "# Load the data to MySQL\n",
    "load_MySQL('Hass',df_final)"
   ]
  }
 ],
 "metadata": {
  "kernelspec": {
   "display_name": "Python 3",
   "language": "python",
   "name": "python3"
  },
  "language_info": {
   "codemirror_mode": {
    "name": "ipython",
    "version": 3
   },
   "file_extension": ".py",
   "mimetype": "text/x-python",
   "name": "python",
   "nbconvert_exporter": "python",
   "pygments_lexer": "ipython3",
   "version": "3.11.8"
  }
 },
 "nbformat": 4,
 "nbformat_minor": 2
}
